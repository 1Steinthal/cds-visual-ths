{
 "cells": [
  {
   "cell_type": "markdown",
   "metadata": {},
   "source": [
    "# Assignment 1, viz - Thomas Steinthal\n",
    "\n",
    "In this assignment, I am going to choose a particular image of a flower, extract its colour-histogram before comparing it to all the other flower histograms.\n",
    "By doing so, I aim to find the ```5 histograms``` that resembles the target flower the most. These five images will be saved to a ```data-frame```with their distance metric to the target image. "
   ]
  },
  {
   "cell_type": "code",
   "execution_count": 2,
   "metadata": {},
   "outputs": [
    {
     "ename": "ImportError",
     "evalue": "libGL.so.1: cannot open shared object file: No such file or directory",
     "output_type": "error",
     "traceback": [
      "\u001b[0;31m---------------------------------------------------------------------------\u001b[0m",
      "\u001b[0;31mImportError\u001b[0m                               Traceback (most recent call last)",
      "\u001b[1;32m/work/ThomasFrederiksenSteinthal#3610/cds-visual-ths/assignments/assignment1/240216-cdsvisTS-Assignment1.ipynb Cell 2\u001b[0m line \u001b[0;36m6\n\u001b[1;32m      <a href='vscode-notebook-cell://app-5021177-0.cloud.sdu.dk/work/ThomasFrederiksenSteinthal%233610/cds-visual-ths/assignments/assignment1/240216-cdsvisTS-Assignment1.ipynb#W1sdnNjb2RlLXJlbW90ZQ%3D%3D?line=2'>3</a>\u001b[0m \u001b[39mimport\u001b[39;00m \u001b[39msys\u001b[39;00m\n\u001b[1;32m      <a href='vscode-notebook-cell://app-5021177-0.cloud.sdu.dk/work/ThomasFrederiksenSteinthal%233610/cds-visual-ths/assignments/assignment1/240216-cdsvisTS-Assignment1.ipynb#W1sdnNjb2RlLXJlbW90ZQ%3D%3D?line=3'>4</a>\u001b[0m sys\u001b[39m.\u001b[39mpath\u001b[39m.\u001b[39mappend(\u001b[39m\"\u001b[39m\u001b[39m..\u001b[39m\u001b[39m\"\u001b[39m)\n\u001b[0;32m----> <a href='vscode-notebook-cell://app-5021177-0.cloud.sdu.dk/work/ThomasFrederiksenSteinthal%233610/cds-visual-ths/assignments/assignment1/240216-cdsvisTS-Assignment1.ipynb#W1sdnNjb2RlLXJlbW90ZQ%3D%3D?line=5'>6</a>\u001b[0m \u001b[39mimport\u001b[39;00m \u001b[39mcv2\u001b[39;00m\n\u001b[1;32m      <a href='vscode-notebook-cell://app-5021177-0.cloud.sdu.dk/work/ThomasFrederiksenSteinthal%233610/cds-visual-ths/assignments/assignment1/240216-cdsvisTS-Assignment1.ipynb#W1sdnNjb2RlLXJlbW90ZQ%3D%3D?line=6'>7</a>\u001b[0m \u001b[39mimport\u001b[39;00m \u001b[39mnumpy\u001b[39;00m \u001b[39mas\u001b[39;00m \u001b[39mnp\u001b[39;00m\n\u001b[1;32m      <a href='vscode-notebook-cell://app-5021177-0.cloud.sdu.dk/work/ThomasFrederiksenSteinthal%233610/cds-visual-ths/assignments/assignment1/240216-cdsvisTS-Assignment1.ipynb#W1sdnNjb2RlLXJlbW90ZQ%3D%3D?line=8'>9</a>\u001b[0m \u001b[39m#from utils.imutils import jimshow as show\u001b[39;00m\n\u001b[1;32m     <a href='vscode-notebook-cell://app-5021177-0.cloud.sdu.dk/work/ThomasFrederiksenSteinthal%233610/cds-visual-ths/assignments/assignment1/240216-cdsvisTS-Assignment1.ipynb#W1sdnNjb2RlLXJlbW90ZQ%3D%3D?line=9'>10</a>\u001b[0m \u001b[39m#from utils.imutils import jimshow_channel as show_channel\u001b[39;00m\n\u001b[1;32m     <a href='vscode-notebook-cell://app-5021177-0.cloud.sdu.dk/work/ThomasFrederiksenSteinthal%233610/cds-visual-ths/assignments/assignment1/240216-cdsvisTS-Assignment1.ipynb#W1sdnNjb2RlLXJlbW90ZQ%3D%3D?line=10'>11</a>\u001b[0m \n\u001b[1;32m     <a href='vscode-notebook-cell://app-5021177-0.cloud.sdu.dk/work/ThomasFrederiksenSteinthal%233610/cds-visual-ths/assignments/assignment1/240216-cdsvisTS-Assignment1.ipynb#W1sdnNjb2RlLXJlbW90ZQ%3D%3D?line=11'>12</a>\u001b[0m \u001b[39m#import matplotlib.pyplot as plt\u001b[39;00m\n",
      "\u001b[0;31mImportError\u001b[0m: libGL.so.1: cannot open shared object file: No such file or directory"
     ]
    }
   ],
   "source": [
    "#Import of packages. Remember to run setup.sh first\n",
    "import os\n",
    "import sys\n",
    "sys.path.append(\"..\")\n",
    "\n",
    "import cv2\n",
    "import numpy as np\n",
    "\n",
    "#from utils.imutils import jimshow as show\n",
    "#from utils.imutils import jimshow_channel as show_channel\n",
    "\n",
    "#import matplotlib.pyplot as plt"
   ]
  },
  {
   "cell_type": "markdown",
   "metadata": {},
   "source": [
    "First task is to load a random flower from the dataset of flowers and normalize its histogram"
   ]
  },
  {
   "cell_type": "code",
   "execution_count": 26,
   "metadata": {},
   "outputs": [
    {
     "data": {
      "text/plain": [
       "array([[[0., 0., 0., ..., 0., 0., 0.],\n",
       "        [0., 0., 0., ..., 0., 0., 0.],\n",
       "        [0., 0., 0., ..., 0., 0., 0.],\n",
       "        ...,\n",
       "        [0., 0., 0., ..., 0., 0., 0.],\n",
       "        [0., 0., 0., ..., 0., 0., 0.],\n",
       "        [0., 0., 0., ..., 0., 0., 0.]],\n",
       "\n",
       "       [[0., 0., 0., ..., 0., 0., 0.],\n",
       "        [0., 0., 0., ..., 0., 0., 0.],\n",
       "        [0., 0., 0., ..., 0., 0., 0.],\n",
       "        ...,\n",
       "        [0., 0., 0., ..., 0., 0., 0.],\n",
       "        [0., 0., 0., ..., 0., 0., 0.],\n",
       "        [0., 0., 0., ..., 0., 0., 0.]],\n",
       "\n",
       "       [[0., 0., 0., ..., 0., 0., 0.],\n",
       "        [0., 0., 0., ..., 0., 0., 0.],\n",
       "        [0., 0., 0., ..., 0., 0., 0.],\n",
       "        ...,\n",
       "        [0., 0., 0., ..., 0., 0., 0.],\n",
       "        [0., 0., 0., ..., 0., 0., 0.],\n",
       "        [0., 0., 0., ..., 0., 0., 0.]],\n",
       "\n",
       "       ...,\n",
       "\n",
       "       [[0., 0., 0., ..., 0., 0., 0.],\n",
       "        [0., 0., 0., ..., 0., 0., 0.],\n",
       "        [0., 0., 0., ..., 0., 0., 0.],\n",
       "        ...,\n",
       "        [0., 0., 0., ..., 0., 0., 0.],\n",
       "        [0., 0., 0., ..., 0., 0., 0.],\n",
       "        [0., 0., 0., ..., 0., 0., 0.]],\n",
       "\n",
       "       [[0., 0., 0., ..., 0., 0., 0.],\n",
       "        [0., 0., 0., ..., 0., 0., 0.],\n",
       "        [0., 0., 0., ..., 0., 0., 0.],\n",
       "        ...,\n",
       "        [0., 0., 0., ..., 0., 0., 0.],\n",
       "        [0., 0., 0., ..., 0., 0., 0.],\n",
       "        [0., 0., 0., ..., 0., 0., 0.]],\n",
       "\n",
       "       [[0., 0., 0., ..., 0., 0., 0.],\n",
       "        [0., 0., 0., ..., 0., 0., 0.],\n",
       "        [0., 0., 0., ..., 0., 0., 0.],\n",
       "        ...,\n",
       "        [0., 0., 0., ..., 0., 0., 0.],\n",
       "        [0., 0., 0., ..., 0., 0., 0.],\n",
       "        [0., 0., 0., ..., 0., 0., 0.]]], dtype=float32)"
      ]
     },
     "execution_count": 26,
     "metadata": {},
     "output_type": "execute_result"
    }
   ],
   "source": [
    "def gen_norm_ref_hist(path):\n",
    "    imgs = sorted(os.listdir(filepath)) #list of images\n",
    "\n",
    "    #Generate random number\n",
    "    nb = rd.randint(0,1359)\n",
    "\n",
    "    #Load the corresponding flower from the database\n",
    "    imgpath = os.path.join(filepath, imgs[nb])\n",
    "    ref_img = cv2.imread(imgpath)\n",
    "    #show(image)\n",
    "\n",
    "    #Normalise imagehistogram\n",
    "    ref_hist = cv2.calcHist([ref_img], [0,1,2], None, [255,255,255], [0,256,0,256,0,256])\n",
    "    norm_ref_hist = cv2.normalize(ref_hist, ref_hist, 0, 1.0, cv2.NORM_MINMAX)\n",
    "    return(norm_ref_hist)\n",
    "\n",
    "#Target folder\n",
    "filepath = os.path.join(\"..\", \"..\", \"..\", \"cds-vis-data\", \"flowers\")\n",
    "nrh = gen_norm_ref_hist(filepath)\n",
    "\n",
    "nrh"
   ]
  }
 ],
 "metadata": {
  "kernelspec": {
   "display_name": "Python 3",
   "language": "python",
   "name": "python3"
  },
  "language_info": {
   "codemirror_mode": {
    "name": "ipython",
    "version": 3
   },
   "file_extension": ".py",
   "mimetype": "text/x-python",
   "name": "python",
   "nbconvert_exporter": "python",
   "pygments_lexer": "ipython3",
   "version": "3.10.12"
  }
 },
 "nbformat": 4,
 "nbformat_minor": 2
}
